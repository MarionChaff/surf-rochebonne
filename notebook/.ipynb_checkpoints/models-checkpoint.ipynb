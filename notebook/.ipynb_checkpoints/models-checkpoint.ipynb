{
 "cells": [
  {
   "cell_type": "markdown",
   "id": "cad19d96-763e-416d-b77e-f1f6fbfa03d6",
   "metadata": {},
   "source": [
    "<u>Imports</u>"
   ]
  },
  {
   "cell_type": "code",
   "execution_count": 1,
   "id": "6a821e82-062a-4e86-ada8-4f5f93b11079",
   "metadata": {},
   "outputs": [],
   "source": [
    "# Standard\n",
    "import pandas as pd\n",
    "import numpy as np\n",
    "import requests\n",
    "from scipy.stats import randint\n",
    "\n",
    "# Scrapping\n",
    "from selenium import webdriver\n",
    "from selenium.webdriver.common.by import By\n",
    "from selenium.webdriver.support.ui import WebDriverWait\n",
    "from selenium.webdriver.support import expected_conditions\n",
    "from selenium.common.exceptions import TimeoutException\n",
    "\n",
    "# Text processing\n",
    "import re\n",
    "\n",
    "# Dataset preparation\n",
    "from sklearn.preprocessing import MinMaxScaler, StandardScaler\n",
    "from sklearn.impute import SimpleImputer\n",
    "\n",
    "# Modelling\n",
    "from sklearn.model_selection import train_test_split, cross_validate, GridSearchCV, RandomizedSearchCV\n",
    "from sklearn.linear_model import LogisticRegression\n",
    "from sklearn.tree import DecisionTreeClassifier\n",
    "from sklearn.ensemble import RandomForestClassifier\n",
    "from sklearn.neighbors import KNeighborsClassifier\n",
    "from sklearn.metrics import classification_report\n",
    "from xgboost import XGBClassifier\n",
    "\n",
    "# Visualisation\n",
    "import matplotlib.pyplot as plt"
   ]
  },
  {
   "cell_type": "markdown",
   "id": "bf5e1f3d-2647-405b-9e3d-ff6c421f4f38",
   "metadata": {},
   "source": [
    "<u>Scrapping</u>"
   ]
  },
  {
   "cell_type": "code",
   "execution_count": 2,
   "id": "0269e1cf-d93b-4bcb-a4f9-d75a71e67e88",
   "metadata": {},
   "outputs": [],
   "source": [
    "url = 'https://www.windguru.cz/112'\n",
    "exec_path = '/Users/marionchaffaut/chromedriver/chromedriver-mac-x64/chromedriver' # Put as ENV\n",
    "num_prev = 100 # Number of observations to be collected from Windguru"
   ]
  },
  {
   "cell_type": "code",
   "execution_count": 30,
   "id": "b6dd325a-de40-4e4d-817a-4a326e6970e0",
   "metadata": {},
   "outputs": [],
   "source": [
    "class Scraper:\n",
    "\n",
    "    def __init__(self, url):\n",
    "        self.url = url\n",
    "        self.driver = webdriver.Chrome(executable_path=exec_path)\n",
    "        self.driver.get(self.url)\n",
    "        \n",
    "    def scrape(self, num_prev):\n",
    "\n",
    "        \"\"\"\n",
    "        Scrapes forecast data for a specified number of observations (1 observation = 2-hour period)\n",
    "        Args:\n",
    "        * num_prev: Number of forecast periods to scrape.\n",
    "        Returns:\n",
    "        * A pandas DataFrame containing the scraped forecast data:\n",
    "            - Date & hour of estimate\n",
    "            - Wind and gust speed and direction\n",
    "            - Swell height, period and direction\n",
    "        \"\"\" \n",
    "\n",
    "        # wait for the browsed page before scraping\n",
    "        try:\n",
    "            myElem = WebDriverWait(self.driver, 5).until(expected_conditions.presence_of_element_located((By.XPATH, '//*[@id=\"tabid_0_0_dates\"]/td[1]')))\n",
    "        except TimeoutException:\n",
    "            None\n",
    "        \n",
    "        forecast = {}\n",
    "\n",
    "        names_fig = ['tabid_0_0_dates','tabid_0_0_WINDSPD','tabid_0_0_GUST','tabid_0_0_HTSGW', 'tabid_0_0_PERPW']\n",
    "        names_dir = ['tabid_0_0_SMER','tabid_0_0_DIRPW']\n",
    "        \n",
    "        for name in names_fig:\n",
    "            temp_list = []\n",
    "            for i in range(1, num_prev + 1):\n",
    "                try:\n",
    "                    value = self.driver.find_element(By.XPATH, f'//*[@id=\"{name}\"]/td[{i}]')\n",
    "                    temp_list.append(value.text)\n",
    "                except Exception as e:\n",
    "                    temp_list.append('na')\n",
    "            forecast[name] = temp_list\n",
    "\n",
    "        for name in names_dir:\n",
    "            temp_list = []\n",
    "            for i in range(1, num_prev + 1):\n",
    "                try:\n",
    "                    value = self.driver.find_element(By.XPATH, f'//*[@id=\"{name}\"]/td[{i}]/span')\n",
    "                    temp_list.append(value.get_attribute('title'))\n",
    "                except Exception as e:\n",
    "                    temp_list.append('na')\n",
    "            forecast[name] = temp_list\n",
    "        \n",
    "        forecast_df=pd.DataFrame(forecast)\n",
    "        \n",
    "        # Formatting \n",
    "        #forecast_df.dropna(inplace=True)\n",
    "        #forecast_df.columns = ['date','wind_speed','gust_speed','swell_height','swell_period','wind_dir','swell_dir']\n",
    "        #forecast_df.wind_dir = forecast_df.wind_dir.apply(lambda x: int(re.search(r'\\((\\d+)°\\)', x).group(1)) if re.search(r'\\((\\d+)°\\)', x) else None)\n",
    "        #forecast_df.swell_dir = forecast_df.swell_dir.apply(lambda x: int(re.search(r'\\((\\d+)°\\)', x).group(1)) if re.search(r'\\((\\d+)°\\)', x) else None)\n",
    "        #forecast_df[['wind_speed', 'gust_speed', 'wind_dir', 'swell_dir', 'swell_period']] = forecast_df[['wind_speed', 'gust_speed', 'wind_dir', 'swell_dir', 'swell_period']].astype(int)\n",
    "        #forecast_df[['swell_height']] = forecast_df[['swell_height']].astype(float)\n",
    "        #forecast_df['wind_speed'] = forecast_df[['wind_speed', 'gust_speed']].mean(axis=1)\n",
    "        #forecast_df = forecast_df.drop(columns=['gust_speed'])\n",
    "        \n",
    "        return forecast_df"
   ]
  },
  {
   "cell_type": "code",
   "execution_count": 31,
   "id": "d77147d2-3366-4fb6-957f-fcc17e676828",
   "metadata": {},
   "outputs": [],
   "source": [
    "driver = webdriver.Chrome(executable_path=exec_path)"
   ]
  },
  {
   "cell_type": "code",
   "execution_count": null,
   "id": "79cf2c39-835c-4ebd-91d9-ef3ebb6f8dc1",
   "metadata": {},
   "outputs": [],
   "source": []
  },
  {
   "cell_type": "code",
   "execution_count": 27,
   "id": "013a6321-ce12-4e9b-b43a-1cd9690dabbf",
   "metadata": {},
   "outputs": [],
   "source": [
    "num_prev = 100"
   ]
  },
  {
   "cell_type": "code",
   "execution_count": 28,
   "id": "f0728367-51e7-4cdd-b79b-4b9e740f763c",
   "metadata": {},
   "outputs": [],
   "source": [
    "scraper = Scraper(url)"
   ]
  },
  {
   "cell_type": "code",
   "execution_count": 29,
   "id": "2e2e569b-cf89-43ba-a1c0-6d20681f01dc",
   "metadata": {},
   "outputs": [
    {
     "ename": "ValueError",
     "evalue": "invalid literal for int() with base 10: ' '",
     "output_type": "error",
     "traceback": [
      "\u001b[0;31m---------------------------------------------------------------------------\u001b[0m",
      "\u001b[0;31mValueError\u001b[0m                                Traceback (most recent call last)",
      "Cell \u001b[0;32mIn[29], line 1\u001b[0m\n\u001b[0;32m----> 1\u001b[0m forecast_df \u001b[38;5;241m=\u001b[39m \u001b[43mscraper\u001b[49m\u001b[38;5;241;43m.\u001b[39;49m\u001b[43mscrape\u001b[49m\u001b[43m(\u001b[49m\u001b[43mnum_prev\u001b[49m\u001b[43m \u001b[49m\u001b[38;5;241;43m=\u001b[39;49m\u001b[43m \u001b[49m\u001b[43mnum_prev\u001b[49m\u001b[43m)\u001b[49m\n",
      "Cell \u001b[0;32mIn[26], line 59\u001b[0m, in \u001b[0;36mScraper.scrape\u001b[0;34m(self, num_prev)\u001b[0m\n\u001b[1;32m     57\u001b[0m forecast_df\u001b[38;5;241m.\u001b[39mwind_dir \u001b[38;5;241m=\u001b[39m forecast_df\u001b[38;5;241m.\u001b[39mwind_dir\u001b[38;5;241m.\u001b[39mapply(\u001b[38;5;28;01mlambda\u001b[39;00m x: \u001b[38;5;28mint\u001b[39m(re\u001b[38;5;241m.\u001b[39msearch(\u001b[38;5;124mr\u001b[39m\u001b[38;5;124m'\u001b[39m\u001b[38;5;124m\\\u001b[39m\u001b[38;5;124m((\u001b[39m\u001b[38;5;124m\\\u001b[39m\u001b[38;5;124md+)°\u001b[39m\u001b[38;5;124m\\\u001b[39m\u001b[38;5;124m)\u001b[39m\u001b[38;5;124m'\u001b[39m, x)\u001b[38;5;241m.\u001b[39mgroup(\u001b[38;5;241m1\u001b[39m)) \u001b[38;5;28;01mif\u001b[39;00m re\u001b[38;5;241m.\u001b[39msearch(\u001b[38;5;124mr\u001b[39m\u001b[38;5;124m'\u001b[39m\u001b[38;5;124m\\\u001b[39m\u001b[38;5;124m((\u001b[39m\u001b[38;5;124m\\\u001b[39m\u001b[38;5;124md+)°\u001b[39m\u001b[38;5;124m\\\u001b[39m\u001b[38;5;124m)\u001b[39m\u001b[38;5;124m'\u001b[39m, x) \u001b[38;5;28;01melse\u001b[39;00m \u001b[38;5;28;01mNone\u001b[39;00m)\n\u001b[1;32m     58\u001b[0m forecast_df\u001b[38;5;241m.\u001b[39mswell_dir \u001b[38;5;241m=\u001b[39m forecast_df\u001b[38;5;241m.\u001b[39mswell_dir\u001b[38;5;241m.\u001b[39mapply(\u001b[38;5;28;01mlambda\u001b[39;00m x: \u001b[38;5;28mint\u001b[39m(re\u001b[38;5;241m.\u001b[39msearch(\u001b[38;5;124mr\u001b[39m\u001b[38;5;124m'\u001b[39m\u001b[38;5;124m\\\u001b[39m\u001b[38;5;124m((\u001b[39m\u001b[38;5;124m\\\u001b[39m\u001b[38;5;124md+)°\u001b[39m\u001b[38;5;124m\\\u001b[39m\u001b[38;5;124m)\u001b[39m\u001b[38;5;124m'\u001b[39m, x)\u001b[38;5;241m.\u001b[39mgroup(\u001b[38;5;241m1\u001b[39m)) \u001b[38;5;28;01mif\u001b[39;00m re\u001b[38;5;241m.\u001b[39msearch(\u001b[38;5;124mr\u001b[39m\u001b[38;5;124m'\u001b[39m\u001b[38;5;124m\\\u001b[39m\u001b[38;5;124m((\u001b[39m\u001b[38;5;124m\\\u001b[39m\u001b[38;5;124md+)°\u001b[39m\u001b[38;5;124m\\\u001b[39m\u001b[38;5;124m)\u001b[39m\u001b[38;5;124m'\u001b[39m, x) \u001b[38;5;28;01melse\u001b[39;00m \u001b[38;5;28;01mNone\u001b[39;00m)\n\u001b[0;32m---> 59\u001b[0m forecast_df[[\u001b[38;5;124m'\u001b[39m\u001b[38;5;124mwind_speed\u001b[39m\u001b[38;5;124m'\u001b[39m, \u001b[38;5;124m'\u001b[39m\u001b[38;5;124mgust_speed\u001b[39m\u001b[38;5;124m'\u001b[39m, \u001b[38;5;124m'\u001b[39m\u001b[38;5;124mwind_dir\u001b[39m\u001b[38;5;124m'\u001b[39m, \u001b[38;5;124m'\u001b[39m\u001b[38;5;124mswell_dir\u001b[39m\u001b[38;5;124m'\u001b[39m, \u001b[38;5;124m'\u001b[39m\u001b[38;5;124mswell_period\u001b[39m\u001b[38;5;124m'\u001b[39m]] \u001b[38;5;241m=\u001b[39m \u001b[43mforecast_df\u001b[49m\u001b[43m[\u001b[49m\u001b[43m[\u001b[49m\u001b[38;5;124;43m'\u001b[39;49m\u001b[38;5;124;43mwind_speed\u001b[39;49m\u001b[38;5;124;43m'\u001b[39;49m\u001b[43m,\u001b[49m\u001b[43m \u001b[49m\u001b[38;5;124;43m'\u001b[39;49m\u001b[38;5;124;43mgust_speed\u001b[39;49m\u001b[38;5;124;43m'\u001b[39;49m\u001b[43m,\u001b[49m\u001b[43m \u001b[49m\u001b[38;5;124;43m'\u001b[39;49m\u001b[38;5;124;43mwind_dir\u001b[39;49m\u001b[38;5;124;43m'\u001b[39;49m\u001b[43m,\u001b[49m\u001b[43m \u001b[49m\u001b[38;5;124;43m'\u001b[39;49m\u001b[38;5;124;43mswell_dir\u001b[39;49m\u001b[38;5;124;43m'\u001b[39;49m\u001b[43m,\u001b[49m\u001b[43m \u001b[49m\u001b[38;5;124;43m'\u001b[39;49m\u001b[38;5;124;43mswell_period\u001b[39;49m\u001b[38;5;124;43m'\u001b[39;49m\u001b[43m]\u001b[49m\u001b[43m]\u001b[49m\u001b[38;5;241;43m.\u001b[39;49m\u001b[43mastype\u001b[49m\u001b[43m(\u001b[49m\u001b[38;5;28;43mint\u001b[39;49m\u001b[43m)\u001b[49m\n\u001b[1;32m     60\u001b[0m forecast_df[[\u001b[38;5;124m'\u001b[39m\u001b[38;5;124mswell_height\u001b[39m\u001b[38;5;124m'\u001b[39m]] \u001b[38;5;241m=\u001b[39m forecast_df[[\u001b[38;5;124m'\u001b[39m\u001b[38;5;124mswell_height\u001b[39m\u001b[38;5;124m'\u001b[39m]]\u001b[38;5;241m.\u001b[39mastype(\u001b[38;5;28mfloat\u001b[39m)\n\u001b[1;32m     61\u001b[0m forecast_df[\u001b[38;5;124m'\u001b[39m\u001b[38;5;124mwind_speed\u001b[39m\u001b[38;5;124m'\u001b[39m] \u001b[38;5;241m=\u001b[39m forecast_df[[\u001b[38;5;124m'\u001b[39m\u001b[38;5;124mwind_speed\u001b[39m\u001b[38;5;124m'\u001b[39m, \u001b[38;5;124m'\u001b[39m\u001b[38;5;124mgust_speed\u001b[39m\u001b[38;5;124m'\u001b[39m]]\u001b[38;5;241m.\u001b[39mmean(axis\u001b[38;5;241m=\u001b[39m\u001b[38;5;241m1\u001b[39m)\n",
      "File \u001b[0;32m~/.pyenv/versions/3.10.6/envs/personal-projects/lib/python3.10/site-packages/pandas/core/generic.py:6643\u001b[0m, in \u001b[0;36mNDFrame.astype\u001b[0;34m(self, dtype, copy, errors)\u001b[0m\n\u001b[1;32m   6637\u001b[0m     results \u001b[38;5;241m=\u001b[39m [\n\u001b[1;32m   6638\u001b[0m         ser\u001b[38;5;241m.\u001b[39mastype(dtype, copy\u001b[38;5;241m=\u001b[39mcopy, errors\u001b[38;5;241m=\u001b[39merrors) \u001b[38;5;28;01mfor\u001b[39;00m _, ser \u001b[38;5;129;01min\u001b[39;00m \u001b[38;5;28mself\u001b[39m\u001b[38;5;241m.\u001b[39mitems()\n\u001b[1;32m   6639\u001b[0m     ]\n\u001b[1;32m   6641\u001b[0m \u001b[38;5;28;01melse\u001b[39;00m:\n\u001b[1;32m   6642\u001b[0m     \u001b[38;5;66;03m# else, only a single dtype is given\u001b[39;00m\n\u001b[0;32m-> 6643\u001b[0m     new_data \u001b[38;5;241m=\u001b[39m \u001b[38;5;28;43mself\u001b[39;49m\u001b[38;5;241;43m.\u001b[39;49m\u001b[43m_mgr\u001b[49m\u001b[38;5;241;43m.\u001b[39;49m\u001b[43mastype\u001b[49m\u001b[43m(\u001b[49m\u001b[43mdtype\u001b[49m\u001b[38;5;241;43m=\u001b[39;49m\u001b[43mdtype\u001b[49m\u001b[43m,\u001b[49m\u001b[43m \u001b[49m\u001b[43mcopy\u001b[49m\u001b[38;5;241;43m=\u001b[39;49m\u001b[43mcopy\u001b[49m\u001b[43m,\u001b[49m\u001b[43m \u001b[49m\u001b[43merrors\u001b[49m\u001b[38;5;241;43m=\u001b[39;49m\u001b[43merrors\u001b[49m\u001b[43m)\u001b[49m\n\u001b[1;32m   6644\u001b[0m     res \u001b[38;5;241m=\u001b[39m \u001b[38;5;28mself\u001b[39m\u001b[38;5;241m.\u001b[39m_constructor_from_mgr(new_data, axes\u001b[38;5;241m=\u001b[39mnew_data\u001b[38;5;241m.\u001b[39maxes)\n\u001b[1;32m   6645\u001b[0m     \u001b[38;5;28;01mreturn\u001b[39;00m res\u001b[38;5;241m.\u001b[39m__finalize__(\u001b[38;5;28mself\u001b[39m, method\u001b[38;5;241m=\u001b[39m\u001b[38;5;124m\"\u001b[39m\u001b[38;5;124mastype\u001b[39m\u001b[38;5;124m\"\u001b[39m)\n",
      "File \u001b[0;32m~/.pyenv/versions/3.10.6/envs/personal-projects/lib/python3.10/site-packages/pandas/core/internals/managers.py:430\u001b[0m, in \u001b[0;36mBaseBlockManager.astype\u001b[0;34m(self, dtype, copy, errors)\u001b[0m\n\u001b[1;32m    427\u001b[0m \u001b[38;5;28;01melif\u001b[39;00m using_copy_on_write():\n\u001b[1;32m    428\u001b[0m     copy \u001b[38;5;241m=\u001b[39m \u001b[38;5;28;01mFalse\u001b[39;00m\n\u001b[0;32m--> 430\u001b[0m \u001b[38;5;28;01mreturn\u001b[39;00m \u001b[38;5;28;43mself\u001b[39;49m\u001b[38;5;241;43m.\u001b[39;49m\u001b[43mapply\u001b[49m\u001b[43m(\u001b[49m\n\u001b[1;32m    431\u001b[0m \u001b[43m    \u001b[49m\u001b[38;5;124;43m\"\u001b[39;49m\u001b[38;5;124;43mastype\u001b[39;49m\u001b[38;5;124;43m\"\u001b[39;49m\u001b[43m,\u001b[49m\n\u001b[1;32m    432\u001b[0m \u001b[43m    \u001b[49m\u001b[43mdtype\u001b[49m\u001b[38;5;241;43m=\u001b[39;49m\u001b[43mdtype\u001b[49m\u001b[43m,\u001b[49m\n\u001b[1;32m    433\u001b[0m \u001b[43m    \u001b[49m\u001b[43mcopy\u001b[49m\u001b[38;5;241;43m=\u001b[39;49m\u001b[43mcopy\u001b[49m\u001b[43m,\u001b[49m\n\u001b[1;32m    434\u001b[0m \u001b[43m    \u001b[49m\u001b[43merrors\u001b[49m\u001b[38;5;241;43m=\u001b[39;49m\u001b[43merrors\u001b[49m\u001b[43m,\u001b[49m\n\u001b[1;32m    435\u001b[0m \u001b[43m    \u001b[49m\u001b[43musing_cow\u001b[49m\u001b[38;5;241;43m=\u001b[39;49m\u001b[43musing_copy_on_write\u001b[49m\u001b[43m(\u001b[49m\u001b[43m)\u001b[49m\u001b[43m,\u001b[49m\n\u001b[1;32m    436\u001b[0m \u001b[43m\u001b[49m\u001b[43m)\u001b[49m\n",
      "File \u001b[0;32m~/.pyenv/versions/3.10.6/envs/personal-projects/lib/python3.10/site-packages/pandas/core/internals/managers.py:363\u001b[0m, in \u001b[0;36mBaseBlockManager.apply\u001b[0;34m(self, f, align_keys, **kwargs)\u001b[0m\n\u001b[1;32m    361\u001b[0m         applied \u001b[38;5;241m=\u001b[39m b\u001b[38;5;241m.\u001b[39mapply(f, \u001b[38;5;241m*\u001b[39m\u001b[38;5;241m*\u001b[39mkwargs)\n\u001b[1;32m    362\u001b[0m     \u001b[38;5;28;01melse\u001b[39;00m:\n\u001b[0;32m--> 363\u001b[0m         applied \u001b[38;5;241m=\u001b[39m \u001b[38;5;28;43mgetattr\u001b[39;49m\u001b[43m(\u001b[49m\u001b[43mb\u001b[49m\u001b[43m,\u001b[49m\u001b[43m \u001b[49m\u001b[43mf\u001b[49m\u001b[43m)\u001b[49m\u001b[43m(\u001b[49m\u001b[38;5;241;43m*\u001b[39;49m\u001b[38;5;241;43m*\u001b[39;49m\u001b[43mkwargs\u001b[49m\u001b[43m)\u001b[49m\n\u001b[1;32m    364\u001b[0m     result_blocks \u001b[38;5;241m=\u001b[39m extend_blocks(applied, result_blocks)\n\u001b[1;32m    366\u001b[0m out \u001b[38;5;241m=\u001b[39m \u001b[38;5;28mtype\u001b[39m(\u001b[38;5;28mself\u001b[39m)\u001b[38;5;241m.\u001b[39mfrom_blocks(result_blocks, \u001b[38;5;28mself\u001b[39m\u001b[38;5;241m.\u001b[39maxes)\n",
      "File \u001b[0;32m~/.pyenv/versions/3.10.6/envs/personal-projects/lib/python3.10/site-packages/pandas/core/internals/blocks.py:758\u001b[0m, in \u001b[0;36mBlock.astype\u001b[0;34m(self, dtype, copy, errors, using_cow, squeeze)\u001b[0m\n\u001b[1;32m    755\u001b[0m         \u001b[38;5;28;01mraise\u001b[39;00m \u001b[38;5;167;01mValueError\u001b[39;00m(\u001b[38;5;124m\"\u001b[39m\u001b[38;5;124mCan not squeeze with more than one column.\u001b[39m\u001b[38;5;124m\"\u001b[39m)\n\u001b[1;32m    756\u001b[0m     values \u001b[38;5;241m=\u001b[39m values[\u001b[38;5;241m0\u001b[39m, :]  \u001b[38;5;66;03m# type: ignore[call-overload]\u001b[39;00m\n\u001b[0;32m--> 758\u001b[0m new_values \u001b[38;5;241m=\u001b[39m \u001b[43mastype_array_safe\u001b[49m\u001b[43m(\u001b[49m\u001b[43mvalues\u001b[49m\u001b[43m,\u001b[49m\u001b[43m \u001b[49m\u001b[43mdtype\u001b[49m\u001b[43m,\u001b[49m\u001b[43m \u001b[49m\u001b[43mcopy\u001b[49m\u001b[38;5;241;43m=\u001b[39;49m\u001b[43mcopy\u001b[49m\u001b[43m,\u001b[49m\u001b[43m \u001b[49m\u001b[43merrors\u001b[49m\u001b[38;5;241;43m=\u001b[39;49m\u001b[43merrors\u001b[49m\u001b[43m)\u001b[49m\n\u001b[1;32m    760\u001b[0m new_values \u001b[38;5;241m=\u001b[39m maybe_coerce_values(new_values)\n\u001b[1;32m    762\u001b[0m refs \u001b[38;5;241m=\u001b[39m \u001b[38;5;28;01mNone\u001b[39;00m\n",
      "File \u001b[0;32m~/.pyenv/versions/3.10.6/envs/personal-projects/lib/python3.10/site-packages/pandas/core/dtypes/astype.py:237\u001b[0m, in \u001b[0;36mastype_array_safe\u001b[0;34m(values, dtype, copy, errors)\u001b[0m\n\u001b[1;32m    234\u001b[0m     dtype \u001b[38;5;241m=\u001b[39m dtype\u001b[38;5;241m.\u001b[39mnumpy_dtype\n\u001b[1;32m    236\u001b[0m \u001b[38;5;28;01mtry\u001b[39;00m:\n\u001b[0;32m--> 237\u001b[0m     new_values \u001b[38;5;241m=\u001b[39m \u001b[43mastype_array\u001b[49m\u001b[43m(\u001b[49m\u001b[43mvalues\u001b[49m\u001b[43m,\u001b[49m\u001b[43m \u001b[49m\u001b[43mdtype\u001b[49m\u001b[43m,\u001b[49m\u001b[43m \u001b[49m\u001b[43mcopy\u001b[49m\u001b[38;5;241;43m=\u001b[39;49m\u001b[43mcopy\u001b[49m\u001b[43m)\u001b[49m\n\u001b[1;32m    238\u001b[0m \u001b[38;5;28;01mexcept\u001b[39;00m (\u001b[38;5;167;01mValueError\u001b[39;00m, \u001b[38;5;167;01mTypeError\u001b[39;00m):\n\u001b[1;32m    239\u001b[0m     \u001b[38;5;66;03m# e.g. _astype_nansafe can fail on object-dtype of strings\u001b[39;00m\n\u001b[1;32m    240\u001b[0m     \u001b[38;5;66;03m#  trying to convert to float\u001b[39;00m\n\u001b[1;32m    241\u001b[0m     \u001b[38;5;28;01mif\u001b[39;00m errors \u001b[38;5;241m==\u001b[39m \u001b[38;5;124m\"\u001b[39m\u001b[38;5;124mignore\u001b[39m\u001b[38;5;124m\"\u001b[39m:\n",
      "File \u001b[0;32m~/.pyenv/versions/3.10.6/envs/personal-projects/lib/python3.10/site-packages/pandas/core/dtypes/astype.py:182\u001b[0m, in \u001b[0;36mastype_array\u001b[0;34m(values, dtype, copy)\u001b[0m\n\u001b[1;32m    179\u001b[0m     values \u001b[38;5;241m=\u001b[39m values\u001b[38;5;241m.\u001b[39mastype(dtype, copy\u001b[38;5;241m=\u001b[39mcopy)\n\u001b[1;32m    181\u001b[0m \u001b[38;5;28;01melse\u001b[39;00m:\n\u001b[0;32m--> 182\u001b[0m     values \u001b[38;5;241m=\u001b[39m \u001b[43m_astype_nansafe\u001b[49m\u001b[43m(\u001b[49m\u001b[43mvalues\u001b[49m\u001b[43m,\u001b[49m\u001b[43m \u001b[49m\u001b[43mdtype\u001b[49m\u001b[43m,\u001b[49m\u001b[43m \u001b[49m\u001b[43mcopy\u001b[49m\u001b[38;5;241;43m=\u001b[39;49m\u001b[43mcopy\u001b[49m\u001b[43m)\u001b[49m\n\u001b[1;32m    184\u001b[0m \u001b[38;5;66;03m# in pandas we don't store numpy str dtypes, so convert to object\u001b[39;00m\n\u001b[1;32m    185\u001b[0m \u001b[38;5;28;01mif\u001b[39;00m \u001b[38;5;28misinstance\u001b[39m(dtype, np\u001b[38;5;241m.\u001b[39mdtype) \u001b[38;5;129;01mand\u001b[39;00m \u001b[38;5;28missubclass\u001b[39m(values\u001b[38;5;241m.\u001b[39mdtype\u001b[38;5;241m.\u001b[39mtype, \u001b[38;5;28mstr\u001b[39m):\n",
      "File \u001b[0;32m~/.pyenv/versions/3.10.6/envs/personal-projects/lib/python3.10/site-packages/pandas/core/dtypes/astype.py:133\u001b[0m, in \u001b[0;36m_astype_nansafe\u001b[0;34m(arr, dtype, copy, skipna)\u001b[0m\n\u001b[1;32m    129\u001b[0m     \u001b[38;5;28;01mraise\u001b[39;00m \u001b[38;5;167;01mValueError\u001b[39;00m(msg)\n\u001b[1;32m    131\u001b[0m \u001b[38;5;28;01mif\u001b[39;00m copy \u001b[38;5;129;01mor\u001b[39;00m arr\u001b[38;5;241m.\u001b[39mdtype \u001b[38;5;241m==\u001b[39m \u001b[38;5;28mobject\u001b[39m \u001b[38;5;129;01mor\u001b[39;00m dtype \u001b[38;5;241m==\u001b[39m \u001b[38;5;28mobject\u001b[39m:\n\u001b[1;32m    132\u001b[0m     \u001b[38;5;66;03m# Explicit copy, or required since NumPy can't view from / to object.\u001b[39;00m\n\u001b[0;32m--> 133\u001b[0m     \u001b[38;5;28;01mreturn\u001b[39;00m \u001b[43marr\u001b[49m\u001b[38;5;241;43m.\u001b[39;49m\u001b[43mastype\u001b[49m\u001b[43m(\u001b[49m\u001b[43mdtype\u001b[49m\u001b[43m,\u001b[49m\u001b[43m \u001b[49m\u001b[43mcopy\u001b[49m\u001b[38;5;241;43m=\u001b[39;49m\u001b[38;5;28;43;01mTrue\u001b[39;49;00m\u001b[43m)\u001b[49m\n\u001b[1;32m    135\u001b[0m \u001b[38;5;28;01mreturn\u001b[39;00m arr\u001b[38;5;241m.\u001b[39mastype(dtype, copy\u001b[38;5;241m=\u001b[39mcopy)\n",
      "\u001b[0;31mValueError\u001b[0m: invalid literal for int() with base 10: ' '"
     ]
    }
   ],
   "source": [
    "forecast_df = scraper.scrape(num_prev = num_prev)"
   ]
  },
  {
   "cell_type": "code",
   "execution_count": 21,
   "id": "30e64513-d675-4af3-8edf-663affcc742b",
   "metadata": {},
   "outputs": [],
   "source": [
    "forecast_df.dropna(inplace=True)"
   ]
  },
  {
   "cell_type": "code",
   "execution_count": 23,
   "id": "8528078c-4026-4549-bee6-ef87d721018a",
   "metadata": {},
   "outputs": [],
   "source": [
    "forecast_df.replace(\"\", pd.NA, inplace=True)"
   ]
  },
  {
   "cell_type": "code",
   "execution_count": 24,
   "id": "2141524c-33bf-40b8-8123-9f760e860310",
   "metadata": {},
   "outputs": [],
   "source": [
    "forecast_df.dropna(inplace=True)"
   ]
  },
  {
   "cell_type": "code",
   "execution_count": 25,
   "id": "569f8681-61f3-49bc-93c2-c0adb4c76650",
   "metadata": {},
   "outputs": [
    {
     "data": {
      "text/plain": [
       "100"
      ]
     },
     "execution_count": 25,
     "metadata": {},
     "output_type": "execute_result"
    }
   ],
   "source": [
    "len(forecast_df)"
   ]
  },
  {
   "cell_type": "markdown",
   "id": "11709402-599d-427c-af35-83f353a1fa3e",
   "metadata": {},
   "source": [
    "<u>Dataset preparation</u>"
   ]
  },
  {
   "cell_type": "code",
   "execution_count": null,
   "id": "17a9e138-3e1c-4991-b18e-bb0317210ac7",
   "metadata": {},
   "outputs": [],
   "source": [
    "dataset = pd.read_excel('../data/dataset_rochebonne.xlsx')\n",
    "dataset = dataset.sample(frac=1, random_state=42).reset_index(drop=True)\n",
    "dataset.head()"
   ]
  },
  {
   "cell_type": "code",
   "execution_count": null,
   "id": "8fbb73aa-19b1-4d3c-b018-88491aca2aa1",
   "metadata": {},
   "outputs": [],
   "source": [
    "dataset.info()"
   ]
  },
  {
   "cell_type": "code",
   "execution_count": null,
   "id": "66cc17d7-25a5-4e2e-b244-5c6428affe32",
   "metadata": {},
   "outputs": [],
   "source": [
    "dataset.describe()"
   ]
  },
  {
   "cell_type": "code",
   "execution_count": null,
   "id": "fa5f26c1-18e0-43e2-a6d7-f1faa8f1997d",
   "metadata": {},
   "outputs": [],
   "source": [
    "# Plot distribution\n",
    "\n",
    "fig, axes = plt.subplots(nrows=2, ncols=3, figsize=(15, 6))\n",
    "columns = ['wind_speed', 'wind_dir', 'swell_height', 'swell_period', 'swell_dir', 'note']\n",
    "colors = ['skyblue', 'royalblue', 'dodgerblue', 'deepskyblue', 'steelblue', 'cornflowerblue']\n",
    "\n",
    "for ax, col, color in zip(axes.flatten(), columns, colors):\n",
    "    ax.hist(dataset[col], bins=30, color=color, edgecolor='black', alpha=0.7)\n",
    "    ax.set_title(col)\n",
    "    ax.grid(True, linestyle='--', alpha=0.6)\n",
    "\n",
    "plt.tight_layout()\n",
    "plt.show()"
   ]
  },
  {
   "cell_type": "code",
   "execution_count": null,
   "id": "81d4efeb-635d-430c-babf-a3d2ff756d88",
   "metadata": {},
   "outputs": [],
   "source": [
    "dataset.note.value_counts()"
   ]
  },
  {
   "cell_type": "code",
   "execution_count": null,
   "id": "33e70508-e259-42c9-b34a-2e1d9efef879",
   "metadata": {},
   "outputs": [],
   "source": [
    "# Split X and y\n",
    "\n",
    "y = dataset['note']\n",
    "X = dataset.drop(columns=['note'])"
   ]
  },
  {
   "cell_type": "code",
   "execution_count": null,
   "id": "36b1867c-5de2-4366-b501-f4245e8959ae",
   "metadata": {},
   "outputs": [],
   "source": [
    "# Split test and train sets\n",
    "\n",
    "X_train, X_test, y_train, y_test = train_test_split(X, y, test_size=0.2, random_state=42)"
   ]
  },
  {
   "cell_type": "code",
   "execution_count": null,
   "id": "cdca8728-4fcc-4f8f-946a-189a8f46b274",
   "metadata": {},
   "outputs": [],
   "source": [
    "# Scale data \n",
    "\n",
    "minmax_scaler = MinMaxScaler()\n",
    "standard_scaler = StandardScaler()\n",
    "\n",
    "X_train_scaled = X_train.copy()\n",
    "X_test_scaled = X_test.copy()\n",
    "\n",
    "X_train_scaled[['wind_speed', 'wind_dir', 'swell_dir']] = minmax_scaler.fit_transform(X_train[['wind_speed', 'wind_dir', 'swell_dir']])\n",
    "X_test_scaled[['wind_speed', 'wind_dir', 'swell_dir']] = minmax_scaler.transform(X_test[['wind_speed', 'wind_dir', 'swell_dir']])\n",
    "\n",
    "X_train_scaled[['swell_height', 'swell_period']] = standard_scaler.fit_transform(X_train[['swell_height', 'swell_period']])\n",
    "X_test_scaled[['swell_height', 'swell_period']] = standard_scaler.transform(X_test[['swell_height', 'swell_period']])"
   ]
  },
  {
   "cell_type": "code",
   "execution_count": null,
   "id": "1c49958f-150c-4e9d-beed-f458baf0b6d1",
   "metadata": {},
   "outputs": [],
   "source": [
    "X_train_scaled.describe()"
   ]
  },
  {
   "cell_type": "code",
   "execution_count": null,
   "id": "55f59789-af26-48d7-aa00-c1c95bba0655",
   "metadata": {},
   "outputs": [],
   "source": [
    "X_test_scaled.describe()"
   ]
  },
  {
   "cell_type": "markdown",
   "id": "a66f5807-2618-40c2-a7da-08d068663bf4",
   "metadata": {},
   "source": [
    "<u>Modelling</u>"
   ]
  },
  {
   "cell_type": "markdown",
   "id": "38e7b1fc-65ca-4116-890a-2bd257646a61",
   "metadata": {},
   "source": [
    "Comparison of the following:\n",
    "- Logistic Regression,\n",
    "- Decision Tree,\n",
    "- Random Forest,\n",
    "- KNN,\n",
    "- XGBoost,\n",
    "- Naïve Bayes,\n",
    "- Support Vector Machines"
   ]
  },
  {
   "cell_type": "code",
   "execution_count": null,
   "id": "137ef5bd-43f8-4ff3-8d7c-bd96820a218f",
   "metadata": {},
   "outputs": [],
   "source": [
    "accuracy = {} # Store the performance of each model"
   ]
  },
  {
   "cell_type": "markdown",
   "id": "2290179d-b282-4bc6-a6f0-2ad7b888aa88",
   "metadata": {},
   "source": [
    "1- Logistic Regression"
   ]
  },
  {
   "cell_type": "code",
   "execution_count": null,
   "id": "9908cd32-9efc-4f64-a56c-8d912c6e9030",
   "metadata": {},
   "outputs": [],
   "source": [
    "logistic_model = LogisticRegression(solver='newton-cg')"
   ]
  },
  {
   "cell_type": "code",
   "execution_count": null,
   "id": "4532c5d5-bcaa-4376-bdce-6a0001e0b806",
   "metadata": {},
   "outputs": [],
   "source": [
    "cv_results_log = cross_validate(logistic_model, X_train_scaled, y_train, scoring = 'accuracy', cv=5)\n",
    "cv_results_log"
   ]
  },
  {
   "cell_type": "code",
   "execution_count": null,
   "id": "ea2f1f3f-804f-4c04-a5d2-d51b39edd799",
   "metadata": {},
   "outputs": [],
   "source": [
    "accuracy['LogisticRegression'] = cv_results_log['test_score'].mean().round(2)"
   ]
  },
  {
   "cell_type": "code",
   "execution_count": null,
   "id": "49e47356-bbb5-4227-bf65-b46856377d06",
   "metadata": {},
   "outputs": [],
   "source": [
    "logistic_model.fit(X_train_scaled,y_train)"
   ]
  },
  {
   "cell_type": "code",
   "execution_count": null,
   "id": "f80a4da0-458f-4dd4-ac2e-464bbb08113a",
   "metadata": {},
   "outputs": [],
   "source": [
    "logistic_model.score(X_test_scaled,y_test)"
   ]
  },
  {
   "cell_type": "markdown",
   "id": "8c818290-69a3-45b7-89da-786d8c35e12f",
   "metadata": {},
   "source": [
    "2- DecisionTreeClassifier"
   ]
  },
  {
   "cell_type": "code",
   "execution_count": null,
   "id": "28c40bac-93ec-4266-9a1f-b2eac1589442",
   "metadata": {},
   "outputs": [],
   "source": [
    "decision_tree = DecisionTreeClassifier()"
   ]
  },
  {
   "cell_type": "code",
   "execution_count": null,
   "id": "3c5b186e-6691-4e3e-a5d5-564322b01e9e",
   "metadata": {},
   "outputs": [],
   "source": [
    "cv_results_dt = cross_validate(decision_tree, X_train, y_train, scoring = 'accuracy', cv=5)\n",
    "cv_results_dt"
   ]
  },
  {
   "cell_type": "code",
   "execution_count": null,
   "id": "013077d8-b955-4735-aef1-cf3402235aca",
   "metadata": {},
   "outputs": [],
   "source": [
    "print(f'Average accuracy before RandomizedSearch: {cv_results_dt[\"test_score\"].mean().round(3)}')"
   ]
  },
  {
   "cell_type": "code",
   "execution_count": null,
   "id": "c436e774-13f4-47f2-a827-11393aeb1510",
   "metadata": {},
   "outputs": [],
   "source": [
    "accuracy['DecisionTree'] = cv_results_dt['test_score'].mean().round(2)"
   ]
  },
  {
   "cell_type": "code",
   "execution_count": null,
   "id": "20559d11-20d3-4d03-a109-31bb5d15aed1",
   "metadata": {},
   "outputs": [],
   "source": [
    "decision_tree.fit(X_train,y_train)"
   ]
  },
  {
   "cell_type": "code",
   "execution_count": null,
   "id": "4b8f4735-6ea3-4f30-ba3d-dc2a18942cdf",
   "metadata": {},
   "outputs": [],
   "source": [
    "decision_tree.score(X_test,y_test)"
   ]
  },
  {
   "cell_type": "markdown",
   "id": "8672ade3-073f-4015-a56b-b822cad4c8be",
   "metadata": {},
   "source": [
    "3- Random Forest"
   ]
  },
  {
   "cell_type": "code",
   "execution_count": null,
   "id": "c2f4eb03-eef7-44e5-8d2f-496166b7e8b1",
   "metadata": {},
   "outputs": [],
   "source": [
    "forest = RandomForestClassifier()"
   ]
  },
  {
   "cell_type": "code",
   "execution_count": null,
   "id": "8e19e9c1-d0bf-4de9-befe-a217f7c23835",
   "metadata": {},
   "outputs": [],
   "source": [
    "cv_results = cross_validate(forest, X_train, y_train, scoring = 'accuracy', cv=5)\n",
    "cv_results"
   ]
  },
  {
   "cell_type": "code",
   "execution_count": null,
   "id": "ffce0335-455a-4095-a838-26dcf526ca90",
   "metadata": {},
   "outputs": [],
   "source": [
    "print(f'Average accuracy before RandomizedSearch: {cv_results[\"test_score\"].mean().round(3)}')"
   ]
  },
  {
   "cell_type": "code",
   "execution_count": null,
   "id": "12129126-a6a7-4258-8c5a-1aebb4381b19",
   "metadata": {},
   "outputs": [],
   "source": [
    "forest.get_params()"
   ]
  },
  {
   "cell_type": "code",
   "execution_count": null,
   "id": "9cbee972-0112-4bd8-b3e6-8246c96db438",
   "metadata": {},
   "outputs": [],
   "source": [
    "# Perform randomized search for hyperparameter tuning\n",
    "\n",
    "param_grid_forest = {'n_estimators': [int(x) for x in np.linspace(start = 10, stop = 120, num = 10)], # Number of trees\n",
    "                'max_features': ['log2', 'sqrt', None], # Number of features at every split\n",
    "                'max_depth': [None,1,2,4,6,8,10], # Maximum number of levels in tree\n",
    "                'min_samples_split': [2,3,4,5], # Minimum number of samples to split a node\n",
    "                'min_samples_leaf': [1, 2], # Minimum number of samples at each leaf node\n",
    "                'bootstrap': [True, False]} # Method of selecting samples for growing each tree\n",
    "\n",
    "forest_search = RandomizedSearchCV(estimator = forest, \n",
    "                                   param_distributions = param_grid_forest, \n",
    "                                   scoring='accuracy', \n",
    "                                   n_iter = 100, \n",
    "                                   cv = 5, \n",
    "                                   verbose=1, \n",
    "                                   random_state=42, \n",
    "                                   n_jobs = -1)\n",
    "\n",
    "forest_search.fit(X_train, y_train)"
   ]
  },
  {
   "cell_type": "code",
   "execution_count": null,
   "id": "0726ccd6-aa52-431e-8b9b-e0b02432320e",
   "metadata": {},
   "outputs": [],
   "source": [
    "forest_best = forest_search.best_estimator_"
   ]
  },
  {
   "cell_type": "code",
   "execution_count": null,
   "id": "a514ffa5-de08-47d2-a934-41a9a04bac44",
   "metadata": {},
   "outputs": [],
   "source": [
    "cv_results_optimized = cross_validate(forest_best, X_train, y_train, scoring = 'accuracy', cv=5)\n",
    "cv_results_optimized"
   ]
  },
  {
   "cell_type": "code",
   "execution_count": null,
   "id": "03ae136d-3cbc-4788-94e9-386b0f0e9d4f",
   "metadata": {},
   "outputs": [],
   "source": [
    "forest_best.fit(X_train,y_train)"
   ]
  },
  {
   "cell_type": "code",
   "execution_count": null,
   "id": "7c52e623-0c85-4592-af28-5e073a12e889",
   "metadata": {},
   "outputs": [],
   "source": [
    "y_pred = forest_best.predict(X_test)"
   ]
  },
  {
   "cell_type": "code",
   "execution_count": null,
   "id": "f482f2db-6cf5-43ef-8387-436d68bb6f66",
   "metadata": {},
   "outputs": [],
   "source": [
    "print(f'Average accuracy after RandomizedSearch: {cv_results_optimized[\"test_score\"].mean().round(2)}')"
   ]
  },
  {
   "cell_type": "code",
   "execution_count": null,
   "id": "c3e6d521-b488-44c7-8f71-0477e3518fc3",
   "metadata": {},
   "outputs": [],
   "source": [
    "target_names = ['rating 0', 'rating 1', 'rating 2', 'rating 3']\n",
    "print(classification_report(y_test, y_pred, target_names=target_names))"
   ]
  },
  {
   "cell_type": "code",
   "execution_count": null,
   "id": "49038b46-e3a3-408a-bbb8-57407ed52080",
   "metadata": {},
   "outputs": [],
   "source": [
    "accuracy['RandomForest'] = cv_results_optimized[\"test_score\"].mean().round(2)"
   ]
  },
  {
   "cell_type": "code",
   "execution_count": null,
   "id": "3ccbb75b-d614-4381-801d-b6cc486be230",
   "metadata": {},
   "outputs": [],
   "source": [
    "forest_best.fit(X_train,y_train)"
   ]
  },
  {
   "cell_type": "code",
   "execution_count": null,
   "id": "140af581-5fd4-4381-9eb6-a216177fc154",
   "metadata": {},
   "outputs": [],
   "source": [
    "forest_best.score(X_test,y_test)"
   ]
  },
  {
   "cell_type": "markdown",
   "id": "61d40118-b807-491f-aa78-a4bc1ec0938d",
   "metadata": {},
   "source": [
    "4- KNeighbors"
   ]
  },
  {
   "cell_type": "code",
   "execution_count": null,
   "id": "338ca463-4aff-44d3-b0d6-18a234bf1d18",
   "metadata": {},
   "outputs": [],
   "source": [
    "knn = KNeighborsClassifier()"
   ]
  },
  {
   "cell_type": "code",
   "execution_count": null,
   "id": "3906c935-e7f1-4ac2-9994-5e9bf6f112e9",
   "metadata": {},
   "outputs": [],
   "source": [
    "knn.get_params()"
   ]
  },
  {
   "cell_type": "code",
   "execution_count": null,
   "id": "9cbf2508-aa9e-486a-bdbb-7fa29c683176",
   "metadata": {},
   "outputs": [],
   "source": [
    "cv_results_knn = cross_validate(knn, X_train_scaled, y_train, scoring = 'accuracy', cv=5)\n",
    "cv_results_knn"
   ]
  },
  {
   "cell_type": "code",
   "execution_count": null,
   "id": "c0d72a5c-1e3c-425c-aca5-0ef8fef239d5",
   "metadata": {},
   "outputs": [],
   "source": [
    "print(f'Average accuracy before RandomizedSearch: {cv_results_knn[\"test_score\"].mean().round(3)}')"
   ]
  },
  {
   "cell_type": "code",
   "execution_count": null,
   "id": "c14901df-cd79-47b7-8f96-df91703fe965",
   "metadata": {},
   "outputs": [],
   "source": [
    "# Grid search for hyperparameter tuning\n",
    "\n",
    "param_grid_knn = {'n_neighbors': [1, 3, 5, 7, 9, 11, 13], # Number of neighbours\n",
    "              'weights': ['uniform', 'distance'], # Weight function used / uniform weights or relative to their distance\n",
    "              'algorithm': ['auto', 'ball_tree', 'kd_tree', 'brute'], # Algorithm used to compute the nearest neighbors\n",
    "              'p': [1, 2] # 1 = manhattan_distance, 2 = euclidean_distance\n",
    "             }\n",
    "\n",
    "knn_search = GridSearchCV(estimator = knn, \n",
    "                            param_grid = param_grid_knn, \n",
    "                            scoring='accuracy', \n",
    "                            cv = 5, \n",
    "                            verbose=1, \n",
    "                            n_jobs = -1)\n",
    "\n",
    "knn_search.fit(X_train_scaled, y_train)"
   ]
  },
  {
   "cell_type": "code",
   "execution_count": null,
   "id": "3beaa2ef-f2d2-428a-88e6-df76245742bb",
   "metadata": {},
   "outputs": [],
   "source": [
    "knn_best = knn_search.best_estimator_"
   ]
  },
  {
   "cell_type": "code",
   "execution_count": null,
   "id": "8594030e-0129-4cc2-be47-5f91fa0ca136",
   "metadata": {},
   "outputs": [],
   "source": [
    "cv_results_knn_best = cross_validate(knn_best, X_train_scaled, y_train, scoring = 'accuracy', cv=5)\n",
    "cv_results_knn_best"
   ]
  },
  {
   "cell_type": "code",
   "execution_count": null,
   "id": "0836fd83-2084-43af-a61d-009a20b698fd",
   "metadata": {},
   "outputs": [],
   "source": [
    "print(f'Average accuracy after RandomizedSearch: {cv_results_knn_best[\"test_score\"].mean().round(3)}')"
   ]
  },
  {
   "cell_type": "code",
   "execution_count": null,
   "id": "fbc3d110-101a-4647-bd47-c8fc06ffde40",
   "metadata": {},
   "outputs": [],
   "source": [
    "knn.fit(X_train_scaled,y_train)"
   ]
  },
  {
   "cell_type": "code",
   "execution_count": null,
   "id": "cf4f52d6-b9a0-4f88-8ecc-6e948fcc9070",
   "metadata": {},
   "outputs": [],
   "source": [
    "knn.score(X_test_scaled,y_test)"
   ]
  },
  {
   "cell_type": "markdown",
   "id": "2f33317d-8b80-45ae-a74d-e5432d6297b9",
   "metadata": {},
   "source": [
    "5- XGBoost"
   ]
  },
  {
   "cell_type": "code",
   "execution_count": null,
   "id": "b8c6f2dd-a020-4b07-b95b-32cbcad5d7c7",
   "metadata": {},
   "outputs": [],
   "source": [
    "xgb_model = XGBClassifier(objective='multi:softprob')"
   ]
  },
  {
   "cell_type": "code",
   "execution_count": null,
   "id": "d1473200-6fd5-4ea4-95fd-8e4362b941e2",
   "metadata": {},
   "outputs": [],
   "source": [
    "cv_results_xgb = cross_validate(xgb_model, X_train_scaled, y_train, scoring = 'accuracy', cv=5)\n",
    "cv_results_xgb"
   ]
  },
  {
   "cell_type": "code",
   "execution_count": null,
   "id": "4d4b5b91-8d88-4ce7-a45f-68c40d74b860",
   "metadata": {},
   "outputs": [],
   "source": [
    "print(f'Average accuracy before RandomizedSearch: {cv_results_xgb[\"test_score\"].mean().round(3)}')"
   ]
  },
  {
   "cell_type": "code",
   "execution_count": null,
   "id": "9a6fd64b-7b4a-49c1-8cec-afb51b76d9ee",
   "metadata": {},
   "outputs": [],
   "source": [
    "# Perform randomized search for hyperparameter tuning\n",
    "\n",
    "xgb_params = {\n",
    "            'n_estimators': [int(x) for x in np.linspace(start = 10, stop = 120, num = 10)],\n",
    "            'max_depth' : [None, 1, 2, 4, 6, 8, 10],\n",
    "            'min_child_weight': [None, 1, 5, 10]\n",
    "        }\n",
    "\n",
    "xgb_search = GridSearchCV(estimator = xgb_model, \n",
    "                                   param_grid = xgb_params, \n",
    "                                   scoring='accuracy', \n",
    "                                   cv = 5, \n",
    "                                   verbose=1, \n",
    "                                   n_jobs = -1)\n",
    "\n",
    "xgb_search.fit(X_train_scaled, y_train)"
   ]
  },
  {
   "cell_type": "code",
   "execution_count": null,
   "id": "a99349a1-311a-4414-b961-94b0cc6c28fb",
   "metadata": {},
   "outputs": [],
   "source": [
    "xgb_best = xgb_search.best_estimator_"
   ]
  },
  {
   "cell_type": "code",
   "execution_count": null,
   "id": "116e6546-7422-4462-865c-3bcedb1be144",
   "metadata": {},
   "outputs": [],
   "source": [
    "cv_results_xgb_best = cross_validate(xgb_best, X_train_scaled, y_train, scoring = 'accuracy', cv=5)"
   ]
  },
  {
   "cell_type": "code",
   "execution_count": null,
   "id": "462a36cd-03ac-4367-b32f-0f6eab6eded5",
   "metadata": {},
   "outputs": [],
   "source": [
    "xgb_best.score(X_test_scaled,y_test)"
   ]
  },
  {
   "cell_type": "code",
   "execution_count": null,
   "id": "12138ee3-6d44-4684-88aa-656117b4e808",
   "metadata": {},
   "outputs": [],
   "source": [
    "print(f'Average accuracy after RandomizedSearch: {cv_results_xgb_best[\"test_score\"].mean().round(3)}')"
   ]
  },
  {
   "cell_type": "markdown",
   "id": "58dbc03d-4dd9-496d-aa84-2ab2e1d74ab3",
   "metadata": {},
   "source": [
    "<u>Forecasts</u>"
   ]
  },
  {
   "cell_type": "code",
   "execution_count": null,
   "id": "60243f1c-1106-4523-956f-94fe7c3acb94",
   "metadata": {},
   "outputs": [],
   "source": [
    "X_new_values = forecast_df[['wind_speed', 'wind_dir', 'swell_height', 'swell_period', 'swell_dir']]"
   ]
  },
  {
   "cell_type": "code",
   "execution_count": null,
   "id": "3256eb91-6bee-4daf-afc9-d9cac6e7aa61",
   "metadata": {},
   "outputs": [],
   "source": [
    "y_new_values = forest_best.predict(X_new_values)"
   ]
  },
  {
   "cell_type": "code",
   "execution_count": null,
   "id": "a9657c09-7f8f-4ccf-952b-a331f37bd1d1",
   "metadata": {},
   "outputs": [],
   "source": [
    "X_new_values"
   ]
  },
  {
   "cell_type": "code",
   "execution_count": null,
   "id": "a61fed31-e5b9-4dc6-a6e0-2a0fe6c74829",
   "metadata": {},
   "outputs": [],
   "source": [
    "X_new_values_scaled = X_new_values.copy()"
   ]
  },
  {
   "cell_type": "code",
   "execution_count": null,
   "id": "de38da6f-ebdc-4344-a51e-0f5f01a3fb77",
   "metadata": {},
   "outputs": [],
   "source": [
    "X_new_values_scaled[['wind_speed', 'wind_dir', 'swell_dir']] = minmax_scaler.transform(X_new_values[['wind_speed', 'wind_dir', 'swell_dir']])\n",
    "X_new_values_scaled[['swell_height', 'swell_period']] = standard_scaler.transform(X_new_values[['swell_height', 'swell_period']])"
   ]
  },
  {
   "cell_type": "code",
   "execution_count": null,
   "id": "a72efdcc-5e28-4ab6-b079-d52323cd5417",
   "metadata": {},
   "outputs": [],
   "source": [
    "y_new_values = xgb_best.predict(X_new_values_scaled)"
   ]
  },
  {
   "cell_type": "code",
   "execution_count": null,
   "id": "d302c03c-9259-4a86-b190-422cbccbf2f3",
   "metadata": {},
   "outputs": [],
   "source": [
    "y_new_values"
   ]
  },
  {
   "cell_type": "code",
   "execution_count": null,
   "id": "3ea4fc2a-91cc-4881-b3d0-38b2064ead4e",
   "metadata": {},
   "outputs": [],
   "source": [
    "forecast_df['note'] = y_new_values"
   ]
  }
 ],
 "metadata": {
  "kernelspec": {
   "display_name": "Python 3 (ipykernel)",
   "language": "python",
   "name": "python3"
  },
  "language_info": {
   "codemirror_mode": {
    "name": "ipython",
    "version": 3
   },
   "file_extension": ".py",
   "mimetype": "text/x-python",
   "name": "python",
   "nbconvert_exporter": "python",
   "pygments_lexer": "ipython3",
   "version": "3.10.6"
  }
 },
 "nbformat": 4,
 "nbformat_minor": 5
}
