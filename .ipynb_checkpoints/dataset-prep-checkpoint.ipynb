{
 "cells": [
  {
   "cell_type": "code",
   "execution_count": 13,
   "id": "812f4d8f-948d-41e8-9cbf-d85d9b12740b",
   "metadata": {},
   "outputs": [],
   "source": [
    "import pandas as pd\n",
    "data = pd.read_excel('dataset.xlsx')"
   ]
  },
  {
   "cell_type": "code",
   "execution_count": 14,
   "id": "5243a009-a197-4e40-ad61-229d14024cf6",
   "metadata": {},
   "outputs": [
    {
     "data": {
      "text/html": [
       "<div>\n",
       "<style scoped>\n",
       "    .dataframe tbody tr th:only-of-type {\n",
       "        vertical-align: middle;\n",
       "    }\n",
       "\n",
       "    .dataframe tbody tr th {\n",
       "        vertical-align: top;\n",
       "    }\n",
       "\n",
       "    .dataframe thead th {\n",
       "        text-align: right;\n",
       "    }\n",
       "</style>\n",
       "<table border=\"1\" class=\"dataframe\">\n",
       "  <thead>\n",
       "    <tr style=\"text-align: right;\">\n",
       "      <th></th>\n",
       "      <th>wind_speed</th>\n",
       "      <th>wind_dir</th>\n",
       "      <th>swell_height</th>\n",
       "      <th>swell_period</th>\n",
       "      <th>swell_dir</th>\n",
       "      <th>rating</th>\n",
       "    </tr>\n",
       "  </thead>\n",
       "  <tbody>\n",
       "    <tr>\n",
       "      <th>count</th>\n",
       "      <td>1782.000000</td>\n",
       "      <td>1782.000000</td>\n",
       "      <td>1782.000000</td>\n",
       "      <td>1782.000000</td>\n",
       "      <td>1782.000000</td>\n",
       "      <td>1782.000000</td>\n",
       "    </tr>\n",
       "    <tr>\n",
       "      <th>mean</th>\n",
       "      <td>8.942200</td>\n",
       "      <td>171.838384</td>\n",
       "      <td>0.768911</td>\n",
       "      <td>7.276094</td>\n",
       "      <td>177.859147</td>\n",
       "      <td>358.747475</td>\n",
       "    </tr>\n",
       "    <tr>\n",
       "      <th>std</th>\n",
       "      <td>5.616064</td>\n",
       "      <td>96.344895</td>\n",
       "      <td>0.260908</td>\n",
       "      <td>2.563091</td>\n",
       "      <td>103.956534</td>\n",
       "      <td>260.602072</td>\n",
       "    </tr>\n",
       "    <tr>\n",
       "      <th>min</th>\n",
       "      <td>0.000000</td>\n",
       "      <td>1.000000</td>\n",
       "      <td>0.000000</td>\n",
       "      <td>1.000000</td>\n",
       "      <td>0.000000</td>\n",
       "      <td>6.000000</td>\n",
       "    </tr>\n",
       "    <tr>\n",
       "      <th>25%</th>\n",
       "      <td>4.000000</td>\n",
       "      <td>103.250000</td>\n",
       "      <td>0.600000</td>\n",
       "      <td>6.000000</td>\n",
       "      <td>86.000000</td>\n",
       "      <td>144.000000</td>\n",
       "    </tr>\n",
       "    <tr>\n",
       "      <th>50%</th>\n",
       "      <td>9.000000</td>\n",
       "      <td>161.000000</td>\n",
       "      <td>0.800000</td>\n",
       "      <td>7.000000</td>\n",
       "      <td>178.000000</td>\n",
       "      <td>312.000000</td>\n",
       "    </tr>\n",
       "    <tr>\n",
       "      <th>75%</th>\n",
       "      <td>13.000000</td>\n",
       "      <td>245.750000</td>\n",
       "      <td>0.900000</td>\n",
       "      <td>9.000000</td>\n",
       "      <td>268.000000</td>\n",
       "      <td>500.000000</td>\n",
       "    </tr>\n",
       "    <tr>\n",
       "      <th>max</th>\n",
       "      <td>25.000000</td>\n",
       "      <td>360.000000</td>\n",
       "      <td>1.700000</td>\n",
       "      <td>16.000000</td>\n",
       "      <td>360.000000</td>\n",
       "      <td>1715.000000</td>\n",
       "    </tr>\n",
       "  </tbody>\n",
       "</table>\n",
       "</div>"
      ],
      "text/plain": [
       "        wind_speed     wind_dir  swell_height  swell_period    swell_dir  \\\n",
       "count  1782.000000  1782.000000   1782.000000   1782.000000  1782.000000   \n",
       "mean      8.942200   171.838384      0.768911      7.276094   177.859147   \n",
       "std       5.616064    96.344895      0.260908      2.563091   103.956534   \n",
       "min       0.000000     1.000000      0.000000      1.000000     0.000000   \n",
       "25%       4.000000   103.250000      0.600000      6.000000    86.000000   \n",
       "50%       9.000000   161.000000      0.800000      7.000000   178.000000   \n",
       "75%      13.000000   245.750000      0.900000      9.000000   268.000000   \n",
       "max      25.000000   360.000000      1.700000     16.000000   360.000000   \n",
       "\n",
       "            rating  \n",
       "count  1782.000000  \n",
       "mean    358.747475  \n",
       "std     260.602072  \n",
       "min       6.000000  \n",
       "25%     144.000000  \n",
       "50%     312.000000  \n",
       "75%     500.000000  \n",
       "max    1715.000000  "
      ]
     },
     "execution_count": 14,
     "metadata": {},
     "output_type": "execute_result"
    }
   ],
   "source": [
    "data[data.rating>0].describe()"
   ]
  },
  {
   "cell_type": "code",
   "execution_count": 15,
   "id": "ea5a041c-de8c-4bf2-8cb2-48417f755b87",
   "metadata": {},
   "outputs": [],
   "source": [
    "def notation (rating): \n",
    "    if rating == 0 : \n",
    "        note = 0\n",
    "    if rating > 0 : \n",
    "        note = 1\n",
    "    if rating > 144 :\n",
    "        note = 2\n",
    "    if rating > 312 :\n",
    "        note = 3\n",
    "    if rating > 500 :\n",
    "        note = 4\n",
    "    return note"
   ]
  },
  {
   "cell_type": "code",
   "execution_count": 16,
   "id": "98dbcd0e-fa03-4acd-8b21-27721af55ef1",
   "metadata": {},
   "outputs": [],
   "source": [
    "data.loc[:,'note']=data.rating.apply(notation)"
   ]
  },
  {
   "cell_type": "code",
   "execution_count": 17,
   "id": "aea686d7-e9b2-4f1d-9600-adefdc0dd8c5",
   "metadata": {},
   "outputs": [],
   "source": [
    "clean_dataset =data.drop(columns=['rating'])"
   ]
  },
  {
   "cell_type": "code",
   "execution_count": 18,
   "id": "85e77ac3-8279-46c7-8cd7-8d862d9c33a6",
   "metadata": {},
   "outputs": [
    {
     "data": {
      "text/plain": [
       "note\n",
       "0    4212\n",
       "1     476\n",
       "3     462\n",
       "2     427\n",
       "4     417\n",
       "Name: count, dtype: int64"
      ]
     },
     "execution_count": 18,
     "metadata": {},
     "output_type": "execute_result"
    }
   ],
   "source": [
    "clean_dataset.note.value_counts()"
   ]
  },
  {
   "cell_type": "code",
   "execution_count": 20,
   "id": "15bdfffe-88db-42a7-947f-6f0a3e9d9106",
   "metadata": {},
   "outputs": [],
   "source": [
    "clean_dataset_class_zero = clean_dataset[clean_dataset.note == 0]\n",
    "clean_dataset_other_classes = clean_dataset[clean_dataset.note != 0]"
   ]
  },
  {
   "cell_type": "code",
   "execution_count": 21,
   "id": "4a5f2c7d-ba00-4cd6-9037-29b84f954988",
   "metadata": {},
   "outputs": [
    {
     "data": {
      "text/plain": [
       "4212"
      ]
     },
     "execution_count": 21,
     "metadata": {},
     "output_type": "execute_result"
    }
   ],
   "source": [
    "len(clean_dataset_class_zero)"
   ]
  },
  {
   "cell_type": "code",
   "execution_count": 22,
   "id": "6b24034a-ddfa-4c46-9c07-893aa4ad92bd",
   "metadata": {},
   "outputs": [
    {
     "data": {
      "text/plain": [
       "1782"
      ]
     },
     "execution_count": 22,
     "metadata": {},
     "output_type": "execute_result"
    }
   ],
   "source": [
    "len(clean_dataset_other_classes)"
   ]
  },
  {
   "cell_type": "code",
   "execution_count": 23,
   "id": "e598bb13-6d05-455f-b89f-a10fb6923741",
   "metadata": {},
   "outputs": [],
   "source": [
    "clean_dataset_class_zero_sampled = clean_dataset_class_zero.sample(frac=0.1, random_state=42)"
   ]
  },
  {
   "cell_type": "code",
   "execution_count": 24,
   "id": "913212a5-257e-44c5-b619-bae5e16b39dd",
   "metadata": {},
   "outputs": [
    {
     "data": {
      "text/plain": [
       "421"
      ]
     },
     "execution_count": 24,
     "metadata": {},
     "output_type": "execute_result"
    }
   ],
   "source": [
    "len(clean_dataset_class_zero_sampled)"
   ]
  },
  {
   "cell_type": "code",
   "execution_count": 25,
   "id": "8037c11d-6982-4f25-ba0a-07b88826d067",
   "metadata": {},
   "outputs": [],
   "source": [
    "# Combine the sampled class 0 data with the other classes\n",
    "balanced_cleaned_dataset = pd.concat([clean_dataset_class_zero_sampled, clean_dataset_other_classes])\n",
    "\n",
    "# Optionally, shuffle the combined DataFrame\n",
    "balanced_cleaned_dataset = balanced_cleaned_dataset.sample(frac=1, random_state=42).reset_index(drop=True)"
   ]
  },
  {
   "cell_type": "code",
   "execution_count": 27,
   "id": "9d23d01c-baf6-47dd-83a6-9bf507eaca6b",
   "metadata": {},
   "outputs": [
    {
     "data": {
      "text/plain": [
       "note\n",
       "1    476\n",
       "3    462\n",
       "2    427\n",
       "0    421\n",
       "4    417\n",
       "Name: count, dtype: int64"
      ]
     },
     "execution_count": 27,
     "metadata": {},
     "output_type": "execute_result"
    }
   ],
   "source": [
    "balanced_cleaned_dataset.note.value_counts()"
   ]
  },
  {
   "cell_type": "code",
   "execution_count": 30,
   "id": "b551e9ce-3c67-42f6-b8d9-e3a698a0cd51",
   "metadata": {},
   "outputs": [],
   "source": [
    "balanced_cleaned_dataset.to_csv('dataset_rochebonne.csv', index=False)"
   ]
  }
 ],
 "metadata": {
  "kernelspec": {
   "display_name": "Python 3 (ipykernel)",
   "language": "python",
   "name": "python3"
  },
  "language_info": {
   "codemirror_mode": {
    "name": "ipython",
    "version": 3
   },
   "file_extension": ".py",
   "mimetype": "text/x-python",
   "name": "python",
   "nbconvert_exporter": "python",
   "pygments_lexer": "ipython3",
   "version": "3.10.6"
  }
 },
 "nbformat": 4,
 "nbformat_minor": 5
}
